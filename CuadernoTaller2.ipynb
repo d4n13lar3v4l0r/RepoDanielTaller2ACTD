{
 "cells": [
  {
   "cell_type": "code",
   "execution_count": null,
   "metadata": {},
   "outputs": [],
   "source": [
    " #Operaciones matemáticas básicas en Python#\n",
    "print(\"### Suma ###\")\n",
    "print(5 + 5)\n",
    "print(\"### Resta ###\")\n",
    "print(5 - 5)\n",
    "print(\"### Multiplicación ###\")\n",
    "print(3 * 5)\n",
    "print(\"### División ###\")\n",
    "print(10 / 3)\n",
    "print(\"### Divisón entera ###\")\n",
    "print(10 // 3)\n",
    "print(\"### Modulo ###\")\n",
    "print(18 % 7)\n",
    "print(\"### Potencia ###\")\n",
    "print(4 ** 5)\n",
    "\n",
    "#Se crea una funcion suma\n",
    "def sumas(a:float,b:float,c:float)->float:\n",
    "    suma=a+b+c\n",
    "    return suma"
   ]
  }
 ],
 "metadata": {
  "language_info": {
   "name": "python"
  }
 },
 "nbformat": 4,
 "nbformat_minor": 2
}
